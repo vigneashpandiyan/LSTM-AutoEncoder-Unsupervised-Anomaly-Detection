{
 "cells": [
  {
   "cell_type": "markdown",
   "metadata": {},
   "source": [
    "## DataChallenge MDI341: Unsupervised Anomaly Detection on Time Series"
   ]
  },
  {
   "cell_type": "markdown",
   "metadata": {},
   "source": [
    "### Summary"
   ]
  },
  {
   "cell_type": "markdown",
   "metadata": {},
   "source": [
    "My approach have been to implement a LSTM Autoencoder, folowing the architecture of those paper: \n",
    "\n",
    "- <a href='https://arxiv.org/pdf/1607.00148.pdf'>LSTM-based Encoder-Decoder for Multi-sensor Anomaly Detection [1] </a>\n",
    "- <a href='https://export.arxiv.org/pdf/1711.10192'>Using LSTM Encoder-Decoder Algorithm for Detecting Anomalous ADS-B Messages [2]</a>\n",
    "\n",
    "Before implementation in order to have a lower computation cost, preprocessing was applied on each time series:\n",
    "- Scaling of the time serie\n",
    "- Sampling of the ts in order to reduce its dimension from 64000 to 200\n",
    "- In order to keep information mutliple transformation was applied during resample transforming the problem in multivariate timeseries\n",
    "\n",
    "    Transformation applied:\n",
    "        - mean, max, min, trend, kurtosis, level_shift (difference beetween consecutive mean), max_diff_var (maximum var difference of sliding window of 24)\n",
    "      \n",
    "<img src='image/original_ts.png'></img>\n",
    "<img src='image/resample_ts.png'></img>\n",
    "\n",
    "Then those time series where split in sequence of size 50 with a moving window of step 30. Giving a training, validation and test set of 8049, 2013, and 15066 sequences respectively.\n",
    "\n",
    "Once training is done we can find the set of ts the one that are failed to be reproduce, and so they can be labelled as anomaly. In order to calculate this anomaly score, the following the paper <a href='https://export.arxiv.org/pdf/1711.10192'>[2] </a> use the cosinus similarity was used and average over the sequences:\n",
    "    $$ \\text{Anomaly_score} = 1 - \\text{CosSimilarity}(x, \\hat{x})$$\n",
    "\n",
    "The anomaly score was kept for each transformation which gave a 7 dimensional vector. Then those vector were used to train a Isolation Forest and to have the final anomaly scores.\n",
    "\n",
    "With this approach 0.79 AUC score was achieved.\n",
    "\n",
    "To push to this score varying techniques was tested on the model. \n",
    " - The size of the hidden space: 300 dimension was used\n",
    " - The learning rate 0.001 with the implementation of the reduction on plateau (after a chosen patience)\n",
    " - The batch size, smaller batch size of 32 seemed to give access to better minima (probably a tradeoff with the learning rate) \n",
    " - The initialisation of the hidden state is random. To have general idea of the anomaly score a mean on 10 prediction were made before calculating the score. \n",
    " \n",
    "\n",
    "To further push this score additional feature calculated on the global time serie was made.\n",
    "Iterative additional feature were tested and kept if the score improved. In order to used our prediction error here the mean of each sequence gave better result than the cosinus similarity.\n",
    "To choose those feature the paper <a href='https://dl.acm.org/doi/abs/10.1145/2783258.2788611'>Generic and Scalable Framework for Automated Time-series Anomaly Detection [3]</a> was studied and the R librairy <a href='https://pkg.robjhyndman.com/tsfeatures/articles/tsfeatures.html'>tsfeatures</a> was used with the <a href='https://rpy2.github.io/doc/v2.9.x/html/index.html'>Rpy2<\\a> package.\n",
    "\n",
    "A total of 10 features was kept: autocorrelation, skew, mean, crossing_points, flat_spots, hurst, spike, curvature, nonlinearity, diff1_acf10 (see tsfeatures link for details one the features)\n",
    "\n",
    "The score was once again calculated with Isolation forest (other algorithms gaved significally lower scores), the final score reach was 0.833503281545\n",
    "\n",
    "\n",
    "The following code represent the preprocessing and the main code for the training and prediction of the anomaly score. The model in itself can be found <a href='https://github.com/vincrichard/UnsupervisedAnomalyDetection_Timeseries'>here</a>"
   ]
  },
  {
   "cell_type": "code",
   "execution_count": 2,
   "metadata": {},
   "outputs": [],
   "source": [
    "import pandas as pd\n",
    "import numpy as np\n",
    "import math\n",
    "import torch\n",
    "from statsmodels.tsa.seasonal import seasonal_decompose\n",
    "import matplotlib.pyplot as plt\n",
    "from statsmodels.tsa.stattools import acf, pacf\n",
    "from scipy.stats import kurtosis"
   ]
  },
  {
   "cell_type": "markdown",
   "metadata": {},
   "source": [
    "## Preprocessing"
   ]
  },
  {
   "cell_type": "markdown",
   "metadata": {},
   "source": [
    "### Data Import"
   ]
  },
  {
   "cell_type": "code",
   "execution_count": 3,
   "metadata": {},
   "outputs": [],
   "source": [
    "train = pd.read_csv('data/airbus_train.csv', delimiter=' ', header=None)\n",
    "test = pd.read_csv('data/airbus_test.csv', delimiter=' ', header=None)"
   ]
  },
  {
   "cell_type": "code",
   "execution_count": 4,
   "metadata": {
    "colab": {},
    "colab_type": "code",
    "id": "7yGQbAoWUjlv"
   },
   "outputs": [],
   "source": [
    "#scaling\n",
    "test_scale = test.apply(lambda x: (x - np.mean(x)) if np.std(x)==0  else (x - np.mean(x))/np.std(x), axis=1)\n",
    "train_scale = train.apply(lambda x: (x - np.mean(x))/np.std(x), axis=1)"
   ]
  },
  {
   "cell_type": "code",
   "execution_count": 5,
   "metadata": {},
   "outputs": [],
   "source": [
    "def create_seq(data, step_window, size_window):\n",
    "    \"\"\"\n",
    "    Take a pandas DataFrame with time index as input and return a (size_window * )\n",
    "    return numpy array of ((size_ts-size_window) / step_window, size_window)\n",
    "    \"\"\"\n",
    "    time_lenght, nb_time_series = data.shape\n",
    "    additional_ts = len(range(0, time_lenght-size_window +1, step_window))\n",
    "    output = np.zeros((nb_time_series, additional_ts, size_window))\n",
    "    seq = pd.DataFrame(data.iloc[:size_window, 0])\n",
    "    for j, shift_value in enumerate(range(0, time_lenght-size_window +1, step_window)):\n",
    "        data_shift = data.shift(-shift_value)\n",
    "    for i in range(0, nb_time_series):\n",
    "        output[i, j, :] = data_shift.iloc[:size_window,i]\n",
    "    return output.reshape(-1, size_window)"
   ]
  },
  {
   "cell_type": "code",
   "execution_count": null,
   "metadata": {},
   "outputs": [],
   "source": [
    "def regroup_multivariate_ts(list_ts):\n",
    "    \"\"\"\n",
    "    Create a 3 dimensional array from a list of time serie of same size\n",
    "    :list_ts: list of \n",
    "    \"\"\"\n",
    "    global_array = np.empty(shape=(list_ts[0].shape[0], list_ts[0].shape[1], len(list_ts)))\n",
    "    for i, ts in enumerate(list_ts):\n",
    "        global_array[:,:,i] = ts\n",
    "    return global_array"
   ]
  },
  {
   "cell_type": "code",
   "execution_count": 6,
   "metadata": {
    "colab": {},
    "colab_type": "code",
    "id": "7MHgWdwM6WU8"
   },
   "outputs": [],
   "source": [
    "def preprocessing(input, list_transfo, resample_freq, size_window, step_window):\n",
    "    \"\"\"\n",
    "    Preprocessing take a pandas DataFrame as input with time_stamp as cols. Return a 3d numpy array with newly created sequence of the data on each feature in list_transfo.\n",
    "    :input: DataFrame containing the data\n",
    "    :list_transfo: list of string containing the transformation to apply\n",
    "    :resample_freq: Resample frequency in order to apply the transformation\n",
    "    :size_window : size of sequence output\n",
    "    :step_window : step of the moving window creating the output sequence\n",
    "    \"\"\"\n",
    "    data = input.copy()\n",
    "    data = data.T\n",
    "    data.index = pd.date_range(start='1/1/2018', periods=input.shape[1], freq='L')\n",
    "    list_var = []\n",
    "    if ('mean' in list_transfo):\n",
    "        list_var.append(create_seq(data.resample(resample_freq+'L').mean(), step_window, size_window))\n",
    "    if ('max' in list_transfo):\n",
    "        list_var.append(create_seq(data.resample(resample_freq+'L').max(), step_window, size_window))\n",
    "    if ('min' in list_transfo):\n",
    "        list_var.append(create_seq(data.resample(resample_freq+'L').min(), step_window, size_window))\n",
    "    if ('trend' in list_transfo):\n",
    "        trend = input.apply(lambda x: seasonal_decompose(x, model='additive', freq=1024).trend[::int(resample_freq)], axis=1).fillna(method='ffill', axis=1).fillna(method='bfill', axis=1).T\n",
    "        trend.index = pd.date_range(start='1/1/2018', periods=trend.shape[0], freq='L')\n",
    "        list_var.append(create_seq(trend, step_window, size_window))\n",
    "    if ('kurtosis' in list_transfo):\n",
    "        list_var.append(create_seq(data.resample(resample_freq+'L').apply(lambda x : kurtosis(x)), step_window, size_window))\n",
    "    if ('max_diff_var' in list_transfo):\n",
    "        data_resample_var =data.resample('30L').var()\n",
    "        diff_data_resample_var = (data_resample_var - data_resample_var.shift(-1)).interpolate()\n",
    "        list_var.append(create_seq(diff_data_resample_var.resample(resample_freq+'L').max(), step_window, size_window))\n",
    "    if ('var_var' in list_transfo):\n",
    "        list_var.append(create_seq(data.resample('30L').var().resample(resample_freq+'L').var(), step_window, size_window))\n",
    "    if ('level_shift' in list_transfo):\n",
    "        data_resample_mean = data.resample('30L').mean()\n",
    "        level_shift = (data_resample_mean - data_resample_mean.shift(-1)).interpolate()\n",
    "        list_var.append(create_seq(level_shift.resample(resample_freq+'L').max(), step_window, size_window))\n",
    "    return regroup_multivariate_ts(list_var)"
   ]
  },
  {
   "cell_type": "code",
   "execution_count": 103,
   "metadata": {
    "colab": {
     "base_uri": "https://localhost:8080/",
     "height": 52
    },
    "colab_type": "code",
    "id": "RuMolUH8GNkQ",
    "outputId": "dbf2f45c-0449-4405-91fb-a0120c20f066"
   },
   "outputs": [
    {
     "name": "stdout",
     "output_type": "stream",
     "text": [
      "CPU times: user 6min 13s, sys: 2.63 s, total: 6min 15s\n",
      "Wall time: 6min 14s\n"
     ]
    }
   ],
   "source": [
    "%%time\n",
    "train_seq = preprocessing(train_scale, ['mean', 'max', 'min', 'trend', 'kurtosis', 'max_diff_var', 'level_shift'], resample_freq='300', size_window=50, step_window=30)\n",
    "test_seq = preprocessing(test_scale, ['mean', 'max', 'min', 'trend', 'kurtosis', 'max_diff_var', 'level_shift'], resample_freq='300', size_window=50, step_window=30)"
   ]
  },
  {
   "cell_type": "code",
   "execution_count": 104,
   "metadata": {
    "colab": {
     "base_uri": "https://localhost:8080/",
     "height": 34
    },
    "colab_type": "code",
    "id": "PI1uGPhHImHm",
    "outputId": "26b744b5-fa77-4841-edb7-03d119bcba80"
   },
   "outputs": [
    {
     "data": {
      "text/plain": [
       "(10062, 50, 7)"
      ]
     },
     "execution_count": 104,
     "metadata": {
      "tags": []
     },
     "output_type": "execute_result"
    }
   ],
   "source": [
    "train_seq.shape"
   ]
  },
  {
   "cell_type": "code",
   "execution_count": 105,
   "metadata": {
    "colab": {
     "base_uri": "https://localhost:8080/",
     "height": 34
    },
    "colab_type": "code",
    "id": "lb4oHfERIn7L",
    "outputId": "c4b3f613-73e9-4fb7-ac2d-71a889c96b39"
   },
   "outputs": [
    {
     "data": {
      "text/plain": [
       "(15066, 50, 7)"
      ]
     },
     "execution_count": 105,
     "metadata": {
      "tags": []
     },
     "output_type": "execute_result"
    }
   ],
   "source": [
    "test_seq.shape"
   ]
  },
  {
   "cell_type": "code",
   "execution_count": null,
   "metadata": {
    "colab": {},
    "colab_type": "code",
    "id": "xGDnKPRI8N6L"
   },
   "outputs": [],
   "source": [
    "torch.save(torch.Tensor(train_seq)[:8049,:,:], 'train_seq.pt')\n",
    "torch.save(torch.Tensor(train_seq)[8049:,:,:], 'valid_seq.pt')\n",
    "torch.save(torch.Tensor(test_seq), 'test_seq.pt')"
   ]
  },
  {
   "cell_type": "markdown",
   "metadata": {},
   "source": [
    "## LSTM AutoEncoder"
   ]
  },
  {
   "cell_type": "code",
   "execution_count": null,
   "metadata": {},
   "outputs": [],
   "source": [
    "import pandas as pd\n",
    "import numpy as np\n",
    "import matplotlib.pyplot as plt\n",
    "import torch\n",
    "import torch.optim as optim\n",
    "from torch.utils.data import DataLoader\n",
    "from utils.airbus_data import AirbusData\n",
    "from model.LSTM_auto_encoder import LSTMAutoEncoder\n",
    "from sklearn.metrics.pairwise import cosine_similarity\n",
    "# Import from https://github.com/vincrichard/UnsupervisedAnomalyDetection_Timeseries repo\n",
    "from utils.callbacks import EarlyStopping\n",
    "from utils.model_management import ModelManagement\n",
    "from utils.plot_class import LossCheckpoint"
   ]
  },
  {
   "cell_type": "code",
   "execution_count": 7,
   "metadata": {},
   "outputs": [
    {
     "data": {
      "text/plain": [
       "device(type='cuda')"
      ]
     },
     "execution_count": 7,
     "metadata": {},
     "output_type": "execute_result"
    }
   ],
   "source": [
    "name_model = 'lstm_ae_model'\n",
    "path_model = '../models/'\n",
    "batch_size = 256\n",
    "device = torch.device('cuda') if torch.cuda.is_available() else torch.device('cpu')\n",
    "device"
   ]
  },
  {
   "cell_type": "markdown",
   "metadata": {
    "colab_type": "text",
    "id": "e-rfe1oVnLdJ"
   },
   "source": [
    "### Load Data"
   ]
  },
  {
   "cell_type": "code",
   "execution_count": 4,
   "metadata": {
    "colab": {},
    "colab_type": "code",
    "id": "D83pHWhAnB3V"
   },
   "outputs": [],
   "source": [
    "# ----------------------------------#\n",
    "#         load dataset              #\n",
    "# ----------------------------------#\n",
    "\n",
    "train_seq = AirbusData('../data/train_seq.pt', type='pytorch')\n",
    "train_loader = DataLoader(train_seq, batch_size, shuffle=True)\n",
    "size_data, seq_length , nb_feature = train_seq.data.shape\n",
    "\n",
    "valid_seq = AirbusData('../data/valid_seq.pt', type='pytorch')\n",
    "valid_loader = DataLoader(valid_seq, batch_size, shuffle=True)\n",
    "\n",
    "test_seq = AirbusData('../data/test_seq.pt', type='pytorch')\n",
    "test_loader = DataLoader(test_seq, batch_size, shuffle=False)"
   ]
  },
  {
   "cell_type": "code",
   "execution_count": 49,
   "metadata": {
    "colab": {
     "base_uri": "https://localhost:8080/",
     "height": 173
    },
    "colab_type": "code",
    "id": "9tWtup62nVvu",
    "outputId": "826f77de-7a76-498a-d804-53a72d56da72"
   },
   "outputs": [
    {
     "data": {
      "text/plain": [
       "LSTMAutoEncoder(\n",
       "  (encoder): Encoder(\n",
       "    (lstm): LSTM(7, 300, batch_first=True)\n",
       "  )\n",
       "  (decoder): Decoder(\n",
       "    (lstm): LSTM(7, 300, batch_first=True)\n",
       "    (linear): Linear(in_features=300, out_features=7, bias=True)\n",
       "  )\n",
       ")"
      ]
     },
     "execution_count": 49,
     "metadata": {},
     "output_type": "execute_result"
    }
   ],
   "source": [
    "# ----------------------------------#\n",
    "#         build model              #\n",
    "# ----------------------------------#\n",
    "\n",
    "model = LSTMAutoEncoder(num_layers=1, hidden_size=300, nb_feature=nb_feature, device=device)\n",
    "model = model.to(device)\n",
    "model"
   ]
  },
  {
   "cell_type": "code",
   "execution_count": 9,
   "metadata": {
    "colab": {},
    "colab_type": "code",
    "id": "br_5LmZGner2"
   },
   "outputs": [],
   "source": [
    "# optimizer\n",
    "optimizer = optim.Adam(model.parameters(), lr=0.0001)"
   ]
  },
  {
   "cell_type": "code",
   "execution_count": 5,
   "metadata": {
    "colab": {},
    "colab_type": "code",
    "id": "newY6m5mngHk"
   },
   "outputs": [],
   "source": [
    "# loss\n",
    "criterion = torch.nn.MSELoss()"
   ]
  },
  {
   "cell_type": "code",
   "execution_count": 295,
   "metadata": {
    "colab": {},
    "colab_type": "code",
    "id": "84Ci09zmnh8a"
   },
   "outputs": [],
   "source": [
    "# Callbacks\n",
    "earlyStopping = EarlyStopping(patience=10)\n",
    "model_management = ModelManagement(path_model, name_model)"
   ]
  },
  {
   "cell_type": "code",
   "execution_count": 294,
   "metadata": {
    "colab": {},
    "colab_type": "code",
    "id": "zjhEdzP1njYg"
   },
   "outputs": [],
   "source": [
    "# Plot\n",
    "loss_checkpoint_train = LossCheckpoint()\n",
    "loss_checkpoint_valid = LossCheckpoint()"
   ]
  },
  {
   "cell_type": "markdown",
   "metadata": {
    "colab_type": "text",
    "id": "p7qgxSKKnoyc"
   },
   "source": [
    "## Train and Evaluation method"
   ]
  },
  {
   "cell_type": "code",
   "execution_count": 291,
   "metadata": {
    "colab": {},
    "colab_type": "code",
    "id": "JMV6wLHfnl37"
   },
   "outputs": [],
   "source": [
    "def train(epoch):\n",
    "    model.train()\n",
    "    train_loss = 0\n",
    "    for id_batch, data in enumerate(train_loader):\n",
    "        optimizer.zero_grad()\n",
    "        # forward\n",
    "        data = data.to(device)\n",
    "        output = model.forward(data)\n",
    "        loss = criterion(data, output.to(device))\n",
    "        # backward\n",
    "        loss.backward()\n",
    "        train_loss += loss.item()\n",
    "        torch.nn.utils.clip_grad_norm_(model.parameters(), 0.3)\n",
    "        optimizer.step()\n",
    "\n",
    "        print('\\r', 'Training [{}/{} ({:.0f}%)] \\tLoss: {:.6f})]'.format(\n",
    "            id_batch + 1, len(train_loader),\n",
    "            (id_batch + 1) * 100 / len(train_loader),\n",
    "            loss.item()), sep='', end='', flush=True)\n",
    "\n",
    "    avg_loss = train_loss / len(train_loader)\n",
    "    print('====> Epoch: {} Average loss: {:.6f}'.format(epoch, avg_loss))\n",
    "    loss_checkpoint_train.losses.append(avg_loss)"
   ]
  },
  {
   "cell_type": "code",
   "execution_count": 292,
   "metadata": {
    "colab": {},
    "colab_type": "code",
    "id": "qI3kwBLEnumU"
   },
   "outputs": [],
   "source": [
    "def evaluate(loader, validation=False, epoch=0):\n",
    "    model.eval()\n",
    "    eval_loss = 0\n",
    "    with torch.no_grad():\n",
    "        for id_batch, data in enumerate(loader):\n",
    "            data = data.to(device)\n",
    "            output = model.forward(data)\n",
    "            loss = criterion(data, output.to(device))\n",
    "            eval_loss += loss.item()\n",
    "        print('\\r', 'Eval [{}/{} ({:.0f}%)] \\tLoss: {:.6f})]'.format(\n",
    "            id_batch + 1, len(loader),\n",
    "            (id_batch + 1) * 100 / len(loader),\n",
    "            loss.item()), sep='', end='', flush=True)\n",
    "    avg_loss = eval_loss / len(loader)\n",
    "    print('====> Validation Average loss: {:.6f}'.format(avg_loss))\n",
    "    # Checkpoint\n",
    "    if validation:\n",
    "        loss_checkpoint_valid.losses.append(avg_loss)\n",
    "        model_management.checkpoint(epoch, model, optimizer, avg_loss)\n",
    "        return earlyStopping.check_training(avg_loss)"
   ]
  },
  {
   "cell_type": "markdown",
   "metadata": {
    "colab_type": "text",
    "id": "P95lKI2Qnzji"
   },
   "source": [
    "## Training"
   ]
  },
  {
   "cell_type": "code",
   "execution_count": null,
   "metadata": {
    "colab": {
     "base_uri": "https://localhost:8080/",
     "height": 1000
    },
    "colab_type": "code",
    "id": "doDtUpzGFYiV",
    "outputId": "39db4eef-481e-4e47-8a14-27ae2a0481ce",
    "scrolled": true
   },
   "outputs": [],
   "source": [
    "for epoch in range(0, 500):\n",
    "    train(epoch)\n",
    "    if evaluate(valid_loader, validation=True, epoch=epoch):\n",
    "        break\n",
    "    # Lr on plateau\n",
    "    if earlyStopping.patience_count == 5:\n",
    "        print('lr on plateau ', optimizer.param_groups[0]['lr'], ' -> ', optimizer.param_groups[0]['lr'] /10)\n",
    "        optimizer.param_groups[0]['lr'] = optimizer.param_groups[0]['lr'] /10"
   ]
  },
  {
   "cell_type": "code",
   "execution_count": 306,
   "metadata": {
    "colab": {},
    "colab_type": "code",
    "id": "raJ3sElJqMKl"
   },
   "outputs": [],
   "source": [
    "model_management.save_best_model()"
   ]
  },
  {
   "cell_type": "code",
   "execution_count": null,
   "metadata": {},
   "outputs": [],
   "source": [
    "loss_checkpoint_train.plot()\n",
    "loss_checkpoint_valid.plot()"
   ]
  },
  {
   "cell_type": "markdown",
   "metadata": {},
   "source": [
    "### Load Best Model"
   ]
  },
  {
   "cell_type": "code",
   "execution_count": 24,
   "metadata": {
    "colab": {
     "base_uri": "https://localhost:8080/",
     "height": 34
    },
    "colab_type": "code",
    "id": "1uOn8LS9tcv9",
    "outputId": "539d6fd8-d7d7-4a05-df2b-fb3aa7e1dae6"
   },
   "outputs": [
    {
     "data": {
      "text/plain": [
       "<All keys matched successfully>"
      ]
     },
     "execution_count": 24,
     "metadata": {},
     "output_type": "execute_result"
    }
   ],
   "source": [
    "model_best = LSTMAutoEncoder(num_layers=1, hidden_size=300, nb_feature=nb_feature, device=device).to(device)\n",
    "checkpoint = torch.load('../models/lstm_ae_model_var_7_epoch_238_lr_0.001_hidden_300_bs_64')\n",
    "model_best.load_state_dict(checkpoint['model_state_dict'])"
   ]
  },
  {
   "cell_type": "markdown",
   "metadata": {
    "colab_type": "text",
    "id": "w0Z9V-_SwSRa"
   },
   "source": [
    "## Prediction of Test Set"
   ]
  },
  {
   "cell_type": "code",
   "execution_count": 25,
   "metadata": {
    "colab": {},
    "colab_type": "code",
    "id": "Wu7Eu1_JwXgj"
   },
   "outputs": [],
   "source": [
    "def predict(loader, input_data, model):\n",
    "    eval_loss=0\n",
    "    model.eval()\n",
    "    predict = torch.zeros(size=input_data.shape, dtype=torch.float)\n",
    "    with torch.no_grad():\n",
    "        for id_batch, data in enumerate(loader):\n",
    "            data = data.to(device)\n",
    "            output = model.forward(data)\n",
    "            predict[id_batch*data.shape[0]:(id_batch+1)*data.shape[0], :, :] = output.reshape(data.shape[0],seq_length, -1)\n",
    "            loss = criterion(data, output.to(device))\n",
    "            eval_loss += loss.item()\n",
    "\n",
    "    avg_loss = eval_loss / len(loader)\n",
    "    print('====> Prediction Average loss: {:.6f}'.format(avg_loss))\n",
    "    return predict"
   ]
  },
  {
   "cell_type": "code",
   "execution_count": 26,
   "metadata": {
    "colab": {},
    "colab_type": "code",
    "id": "KJJr3CCr6uR2"
   },
   "outputs": [],
   "source": [
    "def get_avg_pred(loader, input_data, model, epoch=10):\n",
    "    pred =  predict(loader, input_data, model)\n",
    "    for i in range(epoch):\n",
    "        pred = pred + predict(loader, input_data, model)\n",
    "    return pred/(epoch+1)"
   ]
  },
  {
   "cell_type": "code",
   "execution_count": 15,
   "metadata": {
    "colab": {
     "base_uri": "https://localhost:8080/",
     "height": 34
    },
    "colab_type": "code",
    "id": "bLBe0WB6XB2h",
    "outputId": "20d1bf5d-935b-4e22-cf5a-b22b53040fe8"
   },
   "outputs": [
    {
     "data": {
      "text/plain": [
       "torch.Size([15066, 50, 7])"
      ]
     },
     "execution_count": 15,
     "metadata": {},
     "output_type": "execute_result"
    }
   ],
   "source": [
    "test_seq.data.shape"
   ]
  },
  {
   "cell_type": "code",
   "execution_count": 27,
   "metadata": {
    "colab": {
     "base_uri": "https://localhost:8080/",
     "height": 208
    },
    "colab_type": "code",
    "id": "QBKOIXwtyNBc",
    "outputId": "111f5e57-e646-470a-c829-8b275877cbaf"
   },
   "outputs": [
    {
     "name": "stdout",
     "output_type": "stream",
     "text": [
      "====> Prediction Average loss: 1.278454\n",
      "====> Prediction Average loss: 1.278838\n",
      "====> Prediction Average loss: 1.278194\n",
      "====> Prediction Average loss: 1.278211\n",
      "====> Prediction Average loss: 1.278124\n",
      "====> Prediction Average loss: 1.278525\n",
      "====> Prediction Average loss: 1.278086\n",
      "====> Prediction Average loss: 1.278046\n",
      "====> Prediction Average loss: 1.278324\n",
      "====> Prediction Average loss: 1.278252\n",
      "====> Prediction Average loss: 1.278541\n"
     ]
    }
   ],
   "source": [
    "# test_pred = predict(test_loader, test_seq.data, model_best)\n",
    "test_pred = get_avg_pred(test_loader, test_seq.data, model_best)"
   ]
  },
  {
   "cell_type": "code",
   "execution_count": 7,
   "metadata": {
    "colab": {},
    "colab_type": "code",
    "id": "iKZ57koHtyqj"
   },
   "outputs": [],
   "source": [
    "def compare_seq(model, seq):\n",
    "    \"\"\"\n",
    "    Plot a the original multivariate sequence from loader and the predict one\n",
    "    \"\"\"\n",
    "    model.eval()\n",
    "    with torch.no_grad():\n",
    "        seq = seq.to(device)\n",
    "        output = model.forward(seq.reshape(1, seq_length, -1).to(device))\n",
    "        loss = criterion(seq.reshape(1, seq_length, -1)[0, :, :], output[0, :, :].to(device))\n",
    "        plt.plot(seq.cpu().numpy())\n",
    "        plt.plot(output[0, :, :].numpy())\n",
    "        plt.title('loss= %f' % loss.item())\n",
    "        plt.legend(['data mean', 'data max', 'data min', 'trend', 'kurtosis', 'var', 'level_shift',\n",
    "                      'predict mean', 'predict max', \"predict min\", 'predict trend', 'predict kurtosis', 'predict var', 'predict level_shift'],\n",
    "                      bbox_to_anchor=(1.1, 1.05));"
   ]
  },
  {
   "cell_type": "code",
   "execution_count": 52,
   "metadata": {
    "colab": {
     "base_uri": "https://localhost:8080/",
     "height": 281
    },
    "colab_type": "code",
    "id": "40RHIVYZ5SUs",
    "outputId": "365a2781-eaba-41b9-b1dc-a60ef5a5c2e8"
   },
   "outputs": [
    {
     "data": {
      "image/png": "[encoded data removed]",
      "text/plain": [
       "<Figure size 432x288 with 1 Axes>"
      ]
     },
     "metadata": {
      "needs_background": "light"
     },
     "output_type": "display_data"
    }
   ],
   "source": [
    "compare_seq(model_best, test_seq.data[0])"
   ]
  },
  {
   "cell_type": "code",
   "execution_count": 12,
   "metadata": {
    "colab": {},
    "colab_type": "code",
    "id": "d3Dqcc5u9Rxk"
   },
   "outputs": [],
   "source": [
    "def get_original_ts(data, data_type):\n",
    "    \"\"\"\n",
    "    Recreate the original time serie leaving the overlapping part of the seq since the last part are the begnning of the decoding\n",
    "    keeping the first element give more potential error on prediction\n",
    "    \"\"\"\n",
    "    last_values = size_window - step_window\n",
    "    if data_type=='train':\n",
    "        nb_ts_origine=1677\n",
    "    elif data_type=='test':\n",
    "        nb_ts_origine=2511\n",
    "    return torch.cat((data[:, :step_window, :].reshape(nb_ts_origine, -1, nb_feature),\n",
    "                          data.reshape(nb_ts_origine, -1, nb_feature)[:,-last_values:,:]),\n",
    "                          axis=1)"
   ]
  },
  {
   "cell_type": "markdown",
   "metadata": {},
   "source": [
    "Example on a bad prediction (constant variable)"
   ]
  },
  {
   "cell_type": "code",
   "execution_count": 19,
   "metadata": {
    "colab": {
     "base_uri": "https://localhost:8080/",
     "height": 328
    },
    "colab_type": "code",
    "id": "x0RRAU6p9quI",
    "outputId": "9f929d8c-431f-4141-bf2b-87d259bd13e2"
   },
   "outputs": [
    {
     "data": {
      "image/png": "[encoded data removed]",
      "text/plain": [
       "<Figure size 504x360 with 1 Axes>"
      ]
     },
     "metadata": {
      "needs_background": "light"
     },
     "output_type": "display_data"
    }
   ],
   "source": [
    "ind=2379\n",
    "plt.figure(figsize=(7,5))\n",
    "plt.plot(get_original_ts(test_seq.data, data_type='test')[ind])\n",
    "plt.plot(get_original_ts(test_pred, data_type='test')[ind]);\n",
    "plt.legend(['data mean', 'data max', 'data min', 'trend', 'kurtosis', 'var', 'level_shift',\n",
    "                      'predict mean', 'predict max', \"predict min\", 'predict trend', 'predict kurtosis', 'predict var'],\n",
    "                      bbox_to_anchor=(1.1, 1.05));"
   ]
  },
  {
   "cell_type": "code",
   "execution_count": 28,
   "metadata": {
    "colab": {},
    "colab_type": "code",
    "id": "GyYgfb14bmJE"
   },
   "outputs": [],
   "source": [
    "#Retrieve the ordered train and valid data set\n",
    "train_loader_pred = DataLoader(train_seq, batch_size, shuffle=False)\n",
    "valid_loader_pred = DataLoader(valid_seq, batch_size, shuffle=False)"
   ]
  },
  {
   "cell_type": "code",
   "execution_count": 29,
   "metadata": {
    "colab": {
     "base_uri": "https://localhost:8080/",
     "height": 208
    },
    "colab_type": "code",
    "id": "Ve0M1p_XYXuW",
    "outputId": "6a270c20-2ab9-4e17-cfb1-30c42f418b83"
   },
   "outputs": [
    {
     "name": "stdout",
     "output_type": "stream",
     "text": [
      "====> Prediction Average loss: 0.016964\n",
      "====> Prediction Average loss: 0.016965\n",
      "====> Prediction Average loss: 0.016960\n",
      "====> Prediction Average loss: 0.016966\n",
      "====> Prediction Average loss: 0.016969\n",
      "====> Prediction Average loss: 0.016959\n",
      "====> Prediction Average loss: 0.016968\n",
      "====> Prediction Average loss: 0.016977\n",
      "====> Prediction Average loss: 0.016963\n",
      "====> Prediction Average loss: 0.016970\n",
      "====> Prediction Average loss: 0.016967\n"
     ]
    }
   ],
   "source": [
    "# train_pred = predict(train_loader_pred, train_seq.data, model_best)\n",
    "train_pred = get_avg_pred(train_loader_pred, train_seq.data, model_best)"
   ]
  },
  {
   "cell_type": "code",
   "execution_count": 30,
   "metadata": {
    "colab": {
     "base_uri": "https://localhost:8080/",
     "height": 208
    },
    "colab_type": "code",
    "id": "cAU7XYkoYi33",
    "outputId": "3629e34e-dcb7-45ab-97f2-275d0bca34b6"
   },
   "outputs": [
    {
     "name": "stdout",
     "output_type": "stream",
     "text": [
      "====> Prediction Average loss: 0.033824\n",
      "====> Prediction Average loss: 0.033771\n",
      "====> Prediction Average loss: 0.033826\n",
      "====> Prediction Average loss: 0.033757\n",
      "====> Prediction Average loss: 0.033855\n",
      "====> Prediction Average loss: 0.033804\n",
      "====> Prediction Average loss: 0.033788\n",
      "====> Prediction Average loss: 0.033800\n",
      "====> Prediction Average loss: 0.033829\n",
      "====> Prediction Average loss: 0.033817\n",
      "====> Prediction Average loss: 0.033816\n"
     ]
    }
   ],
   "source": [
    "# valid_pred = predict(valid_loader_pred, valid_seq.data, model_best)\n",
    "valid_pred = get_avg_pred(valid_loader_pred, valid_seq.data, model_best)"
   ]
  },
  {
   "cell_type": "code",
   "execution_count": 31,
   "metadata": {
    "colab": {},
    "colab_type": "code",
    "id": "ZmZqiC1YSbub"
   },
   "outputs": [],
   "source": [
    "full_train_pred = torch.cat([train_pred, valid_pred], dim=0)"
   ]
  },
  {
   "cell_type": "code",
   "execution_count": 56,
   "metadata": {
    "colab": {
     "base_uri": "https://localhost:8080/",
     "height": 320
    },
    "colab_type": "code",
    "id": "lbWxIOGIWUXA",
    "outputId": "0e527068-3e20-4384-cc3c-bafdac5c4ea6"
   },
   "outputs": [
    {
     "data": {
      "image/png": "[encoded data removed]",
      "text/plain": [
       "<Figure size 504x360 with 1 Axes>"
      ]
     },
     "metadata": {
      "needs_background": "light"
     },
     "output_type": "display_data"
    }
   ],
   "source": [
    "ind=0\n",
    "plt.figure(figsize=(7,5))\n",
    "plt.plot(get_original_ts(torch.cat([train_seq.data, valid_seq.data], dim=0), data_type='train')[ind]);\n",
    "plt.legend(['mean', 'max', 'min', 'trend', 'kurtosis', 'max_diff_var', 'level_shift'],\n",
    "          bbox_to_anchor=(1.05, 1.05));"
   ]
  },
  {
   "cell_type": "markdown",
   "metadata": {
    "colab_type": "text",
    "id": "MtFThbd3GEcs"
   },
   "source": [
    "## Reconstruction Erreur par Série"
   ]
  },
  {
   "cell_type": "code",
   "execution_count": 36,
   "metadata": {
    "colab": {},
    "colab_type": "code",
    "id": "BCrOlOXl7Jq6"
   },
   "outputs": [],
   "source": [
    "def calcul_score_serie(data, predict, data_type, calc_type='max'):\n",
    "    \"\"\"\n",
    "    Calculate the error of prediction with different possible technique\n",
    "    \"\"\"\n",
    "    if data_type=='train':\n",
    "        nb_ts_origine=1677\n",
    "    elif data_type=='test':\n",
    "        nb_ts_origine=2511\n",
    "    else:\n",
    "        raise ValueError('data_type value is wrong: ', data_type)\n",
    "    if calc_type=='mean':\n",
    "        loss =  torch.pow(torch.add(get_original_ts(data, data_type=data_type),\n",
    "                                  get_original_ts(-predict, data_type=data_type)),\n",
    "                         2).numpy()\n",
    "        loss = np.mean(loss, axis=1)\n",
    "        return loss\n",
    "    elif calc_type=='abs_mean':\n",
    "        loss = (torch.div(get_original_ts(-predict, data_type=data_type), \n",
    "                        get_original_ts(data, data_type=data_type)+1*10**-8) -1).numpy()\n",
    "        loss = np.mean(loss, axis=1)\n",
    "        return loss\n",
    "    elif calc_type=='cos_similarity':\n",
    "        loss = np.zeros((nb_ts_origine, data.shape[2]))\n",
    "        for i in range(data.shape[2]):\n",
    "            loss[:, i] = 1 - np.mean(cosine_similarity(get_original_ts(data, data_type=data_type).numpy()[:, :, i], get_original_ts(predict, data_type=data_type).numpy()[:, :, i]), axis = 1)\n",
    "        return loss\n",
    "    else:\n",
    "        raise ValueError('calc_type value is wrong: ', calc_type)"
   ]
  },
  {
   "cell_type": "code",
   "execution_count": 38,
   "metadata": {
    "colab": {},
    "colab_type": "code",
    "id": "PCRsCQBJQqao"
   },
   "outputs": [],
   "source": [
    "score_train = calcul_score_serie(torch.cat([train_seq.data, valid_seq.data], dim=0), full_train_pred, data_type='train', calc_type='mean')"
   ]
  },
  {
   "cell_type": "code",
   "execution_count": 39,
   "metadata": {
    "colab": {},
    "colab_type": "code",
    "id": "ykOfetoWGboC"
   },
   "outputs": [],
   "source": [
    "score_test = calcul_score_serie(test_seq.data, test_pred, data_type='test', calc_type='mean')"
   ]
  },
  {
   "cell_type": "markdown",
   "metadata": {
    "colab_type": "text",
    "id": "3uFAgkXGKsJq"
   },
   "source": [
    "## Add additional features:"
   ]
  },
  {
   "cell_type": "code",
   "execution_count": 32,
   "metadata": {
    "colab": {},
    "colab_type": "code",
    "id": "83Gp6114ta88"
   },
   "outputs": [],
   "source": [
    "train_feat = score_train\n",
    "test_feat = score_test"
   ]
  },
  {
   "cell_type": "code",
   "execution_count": 33,
   "metadata": {},
   "outputs": [],
   "source": [
    "def add_new_feature(train, test, list_feat):\n",
    "    list_concat_train = [train]\n",
    "    list_concat_test = [test]\n",
    "    if 'acf' in list_feat:\n",
    "        list_concat_train.append(torch.load('../data/train_acf.pt').numpy().reshape(-1, 1))        \n",
    "        list_concat_test.append(torch.load('../data/test_acf.pt').numpy().reshape(-1, 1))\n",
    "    if 'skew' in list_feat:\n",
    "        list_concat_train.append(torch.load('../data/train_skew.pt').numpy().reshape(-1, 1))        \n",
    "        list_concat_test.append(torch.load('../data/test_skew.pt').numpy().reshape(-1, 1))\n",
    "    if 'mean' in list_feat:\n",
    "        list_concat_train.append(torch.load('../data/train_mean.pt').numpy().reshape(-1, 1))        \n",
    "        list_concat_test.append(torch.load('../data/test_mean.pt').numpy().reshape(-1, 1))\n",
    "    if 'crossing_points' in list_feat:\n",
    "        list_concat_train.append(torch.load('../data/crossing_points_train.pt').numpy().reshape(-1, 1))      \n",
    "        list_concat_test.append(torch.load('../data/crossing_points_test.pt').numpy().reshape(-1, 1))\n",
    "    if 'flat_spots' in list_feat:\n",
    "        list_concat_train.append(torch.load('../data/flat_spots_train.pt').numpy().reshape(-1, 1))     \n",
    "        list_concat_test.append(torch.load('../data/flat_spots_test.pt').numpy().reshape(-1, 1))\n",
    "    if 'hurst' in list_feat:\n",
    "        list_concat_train.append(torch.load('../data/hurst_train.pt').numpy().reshape(-1, 1))        \n",
    "        list_concat_test.append(torch.load('../data/hurst_test.pt').numpy().reshape(-1, 1))\n",
    "    if 'spike' in list_feat:\n",
    "        list_concat_train.append(torch.load('../data/spike_train.pt').numpy().reshape(-1, 1))        \n",
    "        list_concat_test.append(torch.load('../data/spike_test.pt').numpy().reshape(-1, 1))\n",
    "    if 'curvature' in list_feat:\n",
    "        list_concat_train.append(torch.load('../data/curvature_train.pt').numpy().reshape(-1, 1))        \n",
    "        list_concat_test.append(torch.load('../data/curvature_test.pt').numpy().reshape(-1, 1))\n",
    "    if 'nonlinearity' in list_feat:\n",
    "        list_concat_train.append(torch.load('../data/nonlinearity_train.pt').numpy().reshape(-1, 1))        \n",
    "        list_concat_test.append(torch.load('../data/nonlinearity_test.pt').numpy().reshape(-1, 1))\n",
    "    if 'diff1_acf10' in list_feat:\n",
    "        list_concat_train.append(torch.load('../data/diff1_acf10_train.pt').numpy().reshape(-1, 1))      \n",
    "        list_concat_test.append(torch.load('../data/diff1_acf10_test.pt').numpy().reshape(-1, 1))\n",
    "    train_feat =  np.concatenate(list_concat_train, axis=1)\n",
    "    test_feat =  np.concatenate(list_concat_test, axis=1) \n",
    "    return train_feat, test_feat"
   ]
  },
  {
   "cell_type": "code",
   "execution_count": null,
   "metadata": {},
   "outputs": [],
   "source": [
    "list_feat = ['acf', 'skew', 'mean', 'crossing_points', 'flat_spots', 'hurst', \n",
    "             'spike', 'curvature', 'nonlinearity', 'diff1_acf10']\n",
    "train_feat, test_feat = add_new_feature(score_train, score_test, list_feat)"
   ]
  },
  {
   "cell_type": "markdown",
   "metadata": {
    "colab_type": "text",
    "id": "jFMB3Tn9UsdA"
   },
   "source": [
    "## Anomaly Score Calculation"
   ]
  },
  {
   "cell_type": "markdown",
   "metadata": {
    "colab_type": "text",
    "id": "CefCFu5LhRHf"
   },
   "source": [
    "### Isolation Forest"
   ]
  },
  {
   "cell_type": "code",
   "execution_count": 46,
   "metadata": {
    "colab": {
     "base_uri": "https://localhost:8080/",
     "height": 282
    },
    "colab_type": "code",
    "id": "_5DcGcNdU6dy",
    "outputId": "37f7e00c-0485-44e9-a8ea-9fbee8305258"
   },
   "outputs": [
    {
     "data": {
      "text/plain": [
       "[<matplotlib.lines.Line2D at 0x7f51b466a8d0>]"
      ]
     },
     "execution_count": 46,
     "metadata": {},
     "output_type": "execute_result"
    },
    {
     "data": {
      "image/png": "[encoded data removed]",
      "text/plain": [
       "<Figure size 432x288 with 1 Axes>"
      ]
     },
     "metadata": {
      "needs_background": "light"
     },
     "output_type": "display_data"
    }
   ],
   "source": [
    "from sklearn.ensemble import IsolationForest\n",
    "clf = IsolationForest(n_estimators=50, random_state=0).fit(train_feat)\n",
    "predict_score = -clf.score_samples(test_feat)\n",
    "plt.plot(np.sort(predict_score))"
   ]
  },
  {
   "cell_type": "code",
   "execution_count": 397,
   "metadata": {},
   "outputs": [
    {
     "data": {
      "image/png": "[encoded data removed]",
      "text/plain": [
       "<Figure size 432x288 with 1 Axes>"
      ]
     },
     "metadata": {
      "needs_background": "light"
     },
     "output_type": "display_data"
    }
   ],
   "source": [
    "plt.hist(clf.decision_function(test_feat), bins=100)\n",
    "plt.yscale('log')"
   ]
  },
  {
   "cell_type": "markdown",
   "metadata": {
    "colab_type": "text",
    "id": "YnaWVZZNKwTl"
   },
   "source": [
    "## Submission"
   ]
  },
  {
   "cell_type": "code",
   "execution_count": 47,
   "metadata": {
    "colab": {},
    "colab_type": "code",
    "id": "KuHMvCJnKvu1"
   },
   "outputs": [],
   "source": [
    "np.savetxt('ytest_challenge_student.csv', predict_score, fmt = '%1.6f', delimiter=',')"
   ]
  },
  {
   "cell_type": "code",
   "execution_count": 48,
   "metadata": {
    "colab": {
     "base_uri": "https://localhost:8080/",
     "height": 34
    },
    "colab_type": "code",
    "id": "XGQhK03pKhdu",
    "outputId": "86b3e4d3-a197-4652-998a-9f1dc1e9e0d7"
   },
   "outputs": [
    {
     "name": "stdout",
     "output_type": "stream",
     "text": [
      "updating: ytest_challenge_student.csv (deflated 62%)\n"
     ]
    }
   ],
   "source": [
    "! zip submit.zip ytest_challenge_student.csv"
   ]
  }
 ],
 "metadata": {
  "kernelspec": {
   "display_name": "Python 3",
   "language": "python",
   "name": "python3"
  },
  "language_info": {
   "codemirror_mode": {
    "name": "ipython",
    "version": 3
   },
   "file_extension": ".py",
   "mimetype": "text/x-python",
   "name": "python",
   "nbconvert_exporter": "python",
   "pygments_lexer": "ipython3",
   "version": "3.7.6"
  }
 },
 "nbformat": 4,
 "nbformat_minor": 4
}
